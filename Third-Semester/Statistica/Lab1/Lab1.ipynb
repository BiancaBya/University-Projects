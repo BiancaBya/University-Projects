{
 "nbformat": 4,
 "nbformat_minor": 0,
 "metadata": {
  "colab": {
   "provenance": [
    {
     "file_id": "1Lkp1YhWr2Os8ge8kvbekcqBHaphHwNn4",
     "timestamp": 1728051225706
    }
   ],
   "authorship_tag": "ABX9TyN4RLjxxqgR9yDwU6gmcaaF"
  },
  "kernelspec": {
   "name": "python3",
   "display_name": "Python 3"
  },
  "language_info": {
   "name": "python"
  }
 },
 "cells": [
  {
   "cell_type": "code",
   "execution_count": 1,
   "metadata": {
    "id": "fRqt2HRkrbV4",
    "executionInfo": {
     "status": "ok",
     "timestamp": 1728048096695,
     "user_tz": -180,
     "elapsed": 793,
     "user": {
      "displayName": "Bianca Bia",
      "userId": "18333872434398496326"
     }
    }
   },
   "outputs": [],
   "source": [
    "from random import sample\n",
    "from math import factorial\n",
    "from itertools import permutations"
   ]
  },
  {
   "cell_type": "code",
   "source": [
    "permutari = [''.join(p) for p in permutations(\"word\")]\n",
    "print(permutari)"
   ],
   "metadata": {
    "colab": {
     "base_uri": "https://localhost:8080/"
    },
    "id": "tMlCPdrPsTqa",
    "executionInfo": {
     "status": "ok",
     "timestamp": 1728048326298,
     "user_tz": -180,
     "elapsed": 323,
     "user": {
      "displayName": "Bianca Bia",
      "userId": "18333872434398496326"
     }
    },
    "outputId": "f982d1fc-a138-44b1-87be-5591c60b6c67"
   },
   "execution_count": 4,
   "outputs": [
    {
     "output_type": "stream",
     "name": "stdout",
     "text": [
      "['word', 'wodr', 'wrod', 'wrdo', 'wdor', 'wdro', 'owrd', 'owdr', 'orwd', 'ordw', 'odwr', 'odrw', 'rwod', 'rwdo', 'rowd', 'rodw', 'rdwo', 'rdow', 'dwor', 'dwro', 'dowr', 'dorw', 'drwo', 'drow']\n"
     ]
    }
   ]
  },
  {
   "cell_type": "code",
   "source": [
    "numar_permutari = factorial(len(\"word\"))\n",
    "print(numar_permutari)"
   ],
   "metadata": {
    "colab": {
     "base_uri": "https://localhost:8080/"
    },
    "id": "gn5-2MvMsvP1",
    "executionInfo": {
     "status": "ok",
     "timestamp": 1728048354755,
     "user_tz": -180,
     "elapsed": 310,
     "user": {
      "displayName": "Bianca Bia",
      "userId": "18333872434398496326"
     }
    },
    "outputId": "dc7b0e14-a43c-4802-ceaf-ac22c8e3d919"
   },
   "execution_count": 5,
   "outputs": [
    {
     "output_type": "stream",
     "name": "stdout",
     "text": [
      "24\n"
     ]
    }
   ]
  },
  {
   "cell_type": "code",
   "source": [
    "permutare_aleatoare = list((sample(\"word\", 4)))\n",
    "print(permutare_aleatoare)"
   ],
   "metadata": {
    "colab": {
     "base_uri": "https://localhost:8080/"
    },
    "id": "pySl-7oYtVK6",
    "executionInfo": {
     "status": "ok",
     "timestamp": 1728048727921,
     "user_tz": -180,
     "elapsed": 409,
     "user": {
      "displayName": "Bianca Bia",
      "userId": "18333872434398496326"
     }
    },
    "outputId": "e9be9a52-ba73-4ab8-f0d6-55c1bfb291cc"
   },
   "execution_count": 9,
   "outputs": [
    {
     "output_type": "stream",
     "name": "stdout",
     "text": [
      "['d', 'w', 'o', 'r']\n"
     ]
    }
   ]
  },
  {
   "cell_type": "code",
   "source": [
    "from random import sample\n",
    "from math import perm, comb\n",
    "from itertools import permutations, combinations"
   ],
   "metadata": {
    "id": "i6V9YIFwtrl3",
    "executionInfo": {
     "status": "ok",
     "timestamp": 1728048754955,
     "user_tz": -180,
     "elapsed": 410,
     "user": {
      "displayName": "Bianca Bia",
      "userId": "18333872434398496326"
     }
    }
   },
   "execution_count": 10,
   "outputs": []
  },
  {
   "cell_type": "code",
   "source": [
    "def combinari(cuvant, nr, numar_total=False, aleator=False):\n",
    "  combs = list(combinations(cuvant, nr))\n",
    "  if numar_total == True:\n",
    "    print(len(combs))\n",
    "  elif aleator == True:\n",
    "    index = sorted(sample(range(len(combs)),1))\n",
    "    print(combs[index[0]])\n",
    "  else  :\n",
    "    for c in combs:\n",
    "      print(c)\n",
    "\n",
    "combinari(\"word\", 2)\n",
    "combinari(\"word\", 2, True)\n",
    "combinari(\"word\", 2, False, True)"
   ],
   "metadata": {
    "colab": {
     "base_uri": "https://localhost:8080/"
    },
    "id": "37EtRcD9wtKI",
    "executionInfo": {
     "status": "ok",
     "timestamp": 1728051203588,
     "user_tz": -180,
     "elapsed": 308,
     "user": {
      "displayName": "Bianca Bia",
      "userId": "18333872434398496326"
     }
    },
    "outputId": "01326de1-c913-4fb6-ee98-a8f14f906111"
   },
   "execution_count": 40,
   "outputs": [
    {
     "output_type": "stream",
     "name": "stdout",
     "text": [
      "('w', 'o')\n",
      "('w', 'r')\n",
      "('w', 'd')\n",
      "('o', 'r')\n",
      "('o', 'd')\n",
      "('r', 'd')\n",
      "6\n",
      "('o', 'd')\n"
     ]
    }
   ]
  },
  {
   "cell_type": "code",
   "source": [
    "def aranjamente(cuvant, nr, numar_total=False, aleator=False):\n",
    "\n",
    "  aranj = list(permutations(cuvant,nr))\n",
    "\n",
    "  if numar_total == True:\n",
    "    print(len(aranj))\n",
    "  elif aleator == True:\n",
    "    print(sample(aranj,1))\n",
    "  else  :\n",
    "    for c in aranj:\n",
    "      print(c)\n",
    "\n",
    "aranjamente(\"word\", 2)\n",
    "aranjamente(\"word\", 2, True)\n",
    "aranjamente(\"word\", 2, False, True)"
   ],
   "metadata": {
    "colab": {
     "base_uri": "https://localhost:8080/"
    },
    "id": "uNM8lzZgyFpJ",
    "executionInfo": {
     "status": "ok",
     "timestamp": 1728051196522,
     "user_tz": -180,
     "elapsed": 310,
     "user": {
      "displayName": "Bianca Bia",
      "userId": "18333872434398496326"
     }
    },
    "outputId": "02d4386a-ebe8-4131-f017-1a30a53eca9c"
   },
   "execution_count": 39,
   "outputs": [
    {
     "output_type": "stream",
     "name": "stdout",
     "text": [
      "('w', 'o')\n",
      "('w', 'r')\n",
      "('w', 'd')\n",
      "('o', 'w')\n",
      "('o', 'r')\n",
      "('o', 'd')\n",
      "('r', 'w')\n",
      "('r', 'o')\n",
      "('r', 'd')\n",
      "('d', 'w')\n",
      "('d', 'o')\n",
      "('d', 'r')\n",
      "12\n",
      "[('o', 'd')]\n"
     ]
    }
   ]
  },
  {
   "cell_type": "code",
   "source": [
    "from itertools import combinations_with_replacement"
   ],
   "metadata": {
    "id": "H0Ss_42301i9",
    "executionInfo": {
     "status": "ok",
     "timestamp": 1728050685722,
     "user_tz": -180,
     "elapsed": 413,
     "user": {
      "displayName": "Bianca Bia",
      "userId": "18333872434398496326"
     }
    }
   },
   "execution_count": 31,
   "outputs": []
  },
  {
   "cell_type": "code",
   "source": [
    "comb = list(combinations_with_replacement(\"ABCDE\", 4))\n",
    "for c in comb:\n",
    "  print(c)\n",
    "  "
   ],
   "metadata": {
    "colab": {
     "base_uri": "https://localhost:8080/"
    },
    "id": "M8jrO1vO2OOq",
    "executionInfo": {
     "status": "ok",
     "timestamp": 1728050824285,
     "user_tz": -180,
     "elapsed": 419,
     "user": {
      "displayName": "Bianca Bia",
      "userId": "18333872434398496326"
     }
    },
    "outputId": "dcfb0a7f-dadb-4334-d102-d6ca6f129c57"
   },
   "execution_count": 34,
   "outputs": [
    {
     "output_type": "stream",
     "name": "stdout",
     "text": [
      "('A', 'A', 'A', 'A')\n",
      "('A', 'A', 'A', 'B')\n",
      "('A', 'A', 'A', 'C')\n",
      "('A', 'A', 'A', 'D')\n",
      "('A', 'A', 'A', 'E')\n",
      "('A', 'A', 'B', 'B')\n",
      "('A', 'A', 'B', 'C')\n",
      "('A', 'A', 'B', 'D')\n",
      "('A', 'A', 'B', 'E')\n",
      "('A', 'A', 'C', 'C')\n",
      "('A', 'A', 'C', 'D')\n",
      "('A', 'A', 'C', 'E')\n",
      "('A', 'A', 'D', 'D')\n",
      "('A', 'A', 'D', 'E')\n",
      "('A', 'A', 'E', 'E')\n",
      "('A', 'B', 'B', 'B')\n",
      "('A', 'B', 'B', 'C')\n",
      "('A', 'B', 'B', 'D')\n",
      "('A', 'B', 'B', 'E')\n",
      "('A', 'B', 'C', 'C')\n",
      "('A', 'B', 'C', 'D')\n",
      "('A', 'B', 'C', 'E')\n",
      "('A', 'B', 'D', 'D')\n",
      "('A', 'B', 'D', 'E')\n",
      "('A', 'B', 'E', 'E')\n",
      "('A', 'C', 'C', 'C')\n",
      "('A', 'C', 'C', 'D')\n",
      "('A', 'C', 'C', 'E')\n",
      "('A', 'C', 'D', 'D')\n",
      "('A', 'C', 'D', 'E')\n",
      "('A', 'C', 'E', 'E')\n",
      "('A', 'D', 'D', 'D')\n",
      "('A', 'D', 'D', 'E')\n",
      "('A', 'D', 'E', 'E')\n",
      "('A', 'E', 'E', 'E')\n",
      "('B', 'B', 'B', 'B')\n",
      "('B', 'B', 'B', 'C')\n",
      "('B', 'B', 'B', 'D')\n",
      "('B', 'B', 'B', 'E')\n",
      "('B', 'B', 'C', 'C')\n",
      "('B', 'B', 'C', 'D')\n",
      "('B', 'B', 'C', 'E')\n",
      "('B', 'B', 'D', 'D')\n",
      "('B', 'B', 'D', 'E')\n",
      "('B', 'B', 'E', 'E')\n",
      "('B', 'C', 'C', 'C')\n",
      "('B', 'C', 'C', 'D')\n",
      "('B', 'C', 'C', 'E')\n",
      "('B', 'C', 'D', 'D')\n",
      "('B', 'C', 'D', 'E')\n",
      "('B', 'C', 'E', 'E')\n",
      "('B', 'D', 'D', 'D')\n",
      "('B', 'D', 'D', 'E')\n",
      "('B', 'D', 'E', 'E')\n",
      "('B', 'E', 'E', 'E')\n",
      "('C', 'C', 'C', 'C')\n",
      "('C', 'C', 'C', 'D')\n",
      "('C', 'C', 'C', 'E')\n",
      "('C', 'C', 'D', 'D')\n",
      "('C', 'C', 'D', 'E')\n",
      "('C', 'C', 'E', 'E')\n",
      "('C', 'D', 'D', 'D')\n",
      "('C', 'D', 'D', 'E')\n",
      "('C', 'D', 'E', 'E')\n",
      "('C', 'E', 'E', 'E')\n",
      "('D', 'D', 'D', 'D')\n",
      "('D', 'D', 'D', 'E')\n",
      "('D', 'D', 'E', 'E')\n",
      "('D', 'E', 'E', 'E')\n",
      "('E', 'E', 'E', 'E')\n"
     ]
    }
   ]
  },
  {
   "cell_type": "code",
   "source": [],
   "metadata": {
    "id": "OiFayhk12iRq"
   },
   "execution_count": null,
   "outputs": []
  }
 ]
}
