{
 "cells": [
  {
   "cell_type": "code",
   "execution_count": 57,
   "id": "initial_id",
   "metadata": {
    "collapsed": true,
    "ExecuteTime": {
     "end_time": "2025-01-09T13:38:48.317160500Z",
     "start_time": "2025-01-09T13:38:48.313316400Z"
    }
   },
   "outputs": [
    {
     "name": "stdout",
     "output_type": "stream",
     "text": [
      "0.727\n",
      "0.11\n",
      "0.023\n",
      "0.7362637362637363\n",
      "0.7362637362637363\n",
      "0.1010989010989011\n",
      "0.02197802197802198\n"
     ]
    }
   ],
   "source": [
    "\"\"\"2024 sub 1\"\"\"\n",
    "\n",
    "# 1.\n",
    "\n",
    "from scipy.stats import hypergeom, norm, geom, expon, randint, uniform\n",
    "from matplotlib.pyplot import hist, xticks, plot\n",
    "from numpy import mean, linspace, floor\n",
    "import numpy\n",
    "\n",
    "\n",
    "# estimata -> simulari cu 1000 si impartit rez la 1000\n",
    "#          -> cu mean\n",
    "\n",
    "#teoretica -> cu fct cdf... sau formula\n",
    "\n",
    "\n",
    "rosii = 7\n",
    "albastre = 5\n",
    "verzi = 3\n",
    "\n",
    "nr_bile = 15\n",
    "extrageri = 3\n",
    "\n",
    "bile = [\"rosu\"] * 7 + [\"albastru\"] * 5 + [\"verde\"] * 3\n",
    "\n",
    "# fara revenire\n",
    "\n",
    "# ESTIMARE\n",
    "\n",
    "ctr_albastre = 0\n",
    "ctr_aceeasi_culoare = 0\n",
    "ctr_B_A = 0\n",
    "\n",
    "for _ in range (1000):\n",
    "    \n",
    "    bila1, bila2, bila3 = numpy.random.choice(bile, size=3, replace=False)\n",
    "    bile_extrase = [bila1, bila2, bila3]\n",
    "    \n",
    "    if \"albastru\" in bile_extrase:\n",
    "        ctr_albastre += 1\n",
    "        if bila1 == bila2 == bila3:\n",
    "            ctr_B_A += 1\n",
    "        \n",
    "    if bila1 == bila2 == bila3:\n",
    "        ctr_aceeasi_culoare += 1\n",
    "        \n",
    "probA = ctr_albastre/1000\n",
    "probB = ctr_aceeasi_culoare/1000\n",
    "probC = ctr_B_A/1000\n",
    "print(probA)\n",
    "print(probB)\n",
    "print(probC)\n",
    "\n",
    "\n",
    "# TEORETICA\n",
    "\n",
    "cel_putin_1_albastra = 1 - hypergeom.cdf(0, nr_bile, albastre, extrageri)\n",
    "print(cel_putin_1_albastra)\n",
    "\n",
    "# sau\n",
    "cel_putin_1_albastra_negare = 1 - hypergeom.pmf(0, nr_bile, albastre, extrageri)\n",
    "print(cel_putin_1_albastra_negare)\n",
    "\n",
    "\n",
    "\n",
    "toate_3_rosii = hypergeom.pmf(3, nr_bile, rosii, extrageri)\n",
    "toate_3_albastre = hypergeom.pmf(3, nr_bile, albastre, extrageri)\n",
    "toate_3_verzi = hypergeom.pmf(3, nr_bile, verzi, extrageri)\n",
    "toate_aceeasi_culoare = toate_3_verzi + toate_3_rosii + toate_3_albastre\n",
    "print(toate_aceeasi_culoare)\n",
    "\n",
    "\n",
    "toate_albastre = hypergeom.pmf(3, nr_bile, albastre, extrageri)\n",
    "print(toate_albastre)"
   ]
  },
  {
   "cell_type": "code",
   "execution_count": 159,
   "outputs": [
    {
     "name": "stdout",
     "output_type": "stream",
     "text": [
      "0.441\n",
      "0.146\n",
      "0.4676983299682991\n",
      "0.1572065671877767\n"
     ]
    }
   ],
   "source": [
    "#2.\n",
    "\n",
    "X_zaruri = []\n",
    "\n",
    "for _ in range(1000):\n",
    "    zar1, zar2 = numpy.random.randint(1,7, size=2)\n",
    "    ctr = 1\n",
    "    while zar1 + zar2 != 6:\n",
    "        zar1, zar2 = numpy.random.randint(1,7, size=2)\n",
    "        ctr += 1\n",
    "    X_zaruri.append(ctr-1)\n",
    "    \n",
    "zaruri_estimata_4 = [x for x in X_zaruri if x > 4]  \n",
    "print(len(zaruri_estimata_4) / 1000)\n",
    "\n",
    "zaruri_estimata_7_10 = [x for x in X_zaruri if 7 <= x <= 10]\n",
    "print(len(zaruri_estimata_7_10) / 1000)\n",
    "\n",
    "\n",
    "ctr_zaruri=0\n",
    "for _ in range(1000):\n",
    "    zar1, zar2 = numpy.random.randint(1,7, size=2)\n",
    "    if zar1 + zar2 == 6:\n",
    "        ctr_zaruri += 1\n",
    "prob_6 = ctr_zaruri/1000\n",
    "\n",
    "\n",
    "zaruri_teoretica_4 = 1 - geom.cdf(5, prob_6) # prob ca a 5 a sa fie cea cu succes, adica x > 4\n",
    "print(zaruri_teoretica_4)\n",
    "        \n",
    "        \n",
    "zaruri_teoretica_7_10 = geom.cdf(11, prob_6) - geom.cdf(7, prob_6) # succes >= 11 -> X >= 10\n",
    "print(zaruri_teoretica_7_10)                                       # succes > 6   -> X >= 7\n",
    "\n"
   ],
   "metadata": {
    "collapsed": false,
    "ExecuteTime": {
     "end_time": "2025-01-09T14:10:44.209729900Z",
     "start_time": "2025-01-09T14:10:44.169402300Z"
    }
   },
   "id": "a39714e398b8527a"
  },
  {
   "cell_type": "code",
   "execution_count": 237,
   "outputs": [
    {
     "name": "stdout",
     "output_type": "stream",
     "text": [
      "Prob ca y1+y3/2 > y2:  0.458\n",
      "media:  1.4793874264723899\n",
      "prob estimata apartine interval:  0.295\n",
      "0.06400000000000007\n"
     ]
    }
   ],
   "source": [
    "# 224_2\n",
    "\n",
    "from scipy.stats import uniform \n",
    "\n",
    "# [1,2]\n",
    "vector = uniform.rvs(loc=1, scale=1, size=6)\n",
    "\n",
    "# a)\n",
    "\n",
    "ctr_medie_y1_y3_mare_y2 = 0\n",
    "medii_geometrice = []\n",
    "prob_apar_interval = 0\n",
    "\n",
    "for _ in range(1000):\n",
    "    y1, y2, y3 = numpy.random.choice(vector, size=3)\n",
    "    if (y1+y3)/2 > y2:\n",
    "        ctr_medie_y1_y3_mare_y2 += 1\n",
    "    media = (y1 * y2 * y3) ** (1/3)    \n",
    "    medii_geometrice.append(media)    \n",
    "    \n",
    "    if 1.2 <= y1 <= 1.6 and 1.2 <= y2 <= 1.6 and 1.2 <= y3 <= 1.6:\n",
    "        prob_apar_interval += 1\n",
    "    \n",
    "print(\"Prob ca y1+y3/2 > y2: \", ctr_medie_y1_y3_mare_y2/1000)  \n",
    "media_geometrica = mean(medii_geometrice)\n",
    "print(\"media: \", media_geometrica)\n",
    "\n",
    "\n",
    "\n",
    "# b)\n",
    "\n",
    "print(\"prob estimata apartine interval: \", prob_apar_interval/1000)\n",
    "\n",
    "cdf_upper = uniform.cdf(1.6, loc=1, scale=1)\n",
    "cdf_lower = uniform.cdf(1.2, loc=1, scale=1)\n",
    "\n",
    "probabilitate_unu = cdf_upper - cdf_lower\n",
    "\n",
    "probabilitate_trei = probabilitate_unu ** 3\n",
    "\n",
    "print(probabilitate_trei)\n",
    "\n"
   ],
   "metadata": {
    "collapsed": false,
    "ExecuteTime": {
     "end_time": "2025-01-09T16:09:57.182783300Z",
     "start_time": "2025-01-09T16:09:57.166481100Z"
    }
   },
   "id": "ef8abafff9ba7de6"
  },
  {
   "cell_type": "code",
   "execution_count": 284,
   "outputs": [
    {
     "name": "stdout",
     "output_type": "stream",
     "text": [
      "0.439\n",
      "0.3434\n",
      "0.3429999999999999\n",
      "Prob in interval:  0.9942\n",
      "Prob toate in interval:  0.6148\n",
      "Prob toate in interval teoretic:  0.8017748607796518\n"
     ]
    }
   ],
   "source": [
    "# 223_2\n",
    "from scipy.stats import binom\n",
    "\n",
    "# 1.\n",
    "\n",
    "# cu revenire\n",
    "\n",
    "nr_acumulatori = 10\n",
    "\n",
    "acumulatori = [\"bun\"] * 7 + [\"rau\"] * 3\n",
    "ctr_a = 0\n",
    "ctr_b = 0\n",
    "\n",
    "\n",
    "for _ in range(5000):\n",
    "    ac1, ac2, ac3 = numpy.random.choice(acumulatori, size=3, replace=True)\n",
    "    acs = [ac1, ac2, ac3]\n",
    "    if acs.count(\"rau\") == 1:\n",
    "        ctr_a += 1\n",
    "    if acs.count(\"rau\") == 0:\n",
    "        ctr_b += 1\n",
    "        \n",
    "print(ctr_a/5000)\n",
    "print(ctr_b/5000)\n",
    "    \n",
    "teoretic_b = binom.pmf(0, 3, 3/10)\n",
    "print(teoretic_b)\n",
    "    \n",
    "    \n",
    "\n",
    "# 2.\n",
    "\n",
    "media_1 = -1\n",
    "deviatia_1 = 1\n",
    "\n",
    "media_2 = 0\n",
    "deviatia_2 = 1\n",
    "ctr_el_interval = 0\n",
    "ctr_toate = 0\n",
    "\n",
    "for _ in range(5000):\n",
    "    numere_1 = norm.rvs(loc=media_1, scale=deviatia_1, size=2)\n",
    "    numere_2 =  norm.rvs(loc=media_2, scale=deviatia_2, size=3)\n",
    "    numere = list(numere_1) + list(numere_2)\n",
    "    in_interval = [x for x in numere if -2 <= x <= 2]\n",
    "    if len(in_interval) >= 3:\n",
    "        ctr_el_interval += 1\n",
    "    if len(in_interval) == 5:\n",
    "        ctr_toate += 1\n",
    "        \n",
    "    \n",
    "print(\"Prob in interval: \", ctr_el_interval/5000)    \n",
    "print(\"Prob toate in interval: \", ctr_toate/5000)   \n",
    "\n",
    "\n",
    "#teoretic\n",
    "\n",
    "prob_1 = norm.cdf(2, loc=media_1, scale=deviatia_1) - norm.cdf(-2, loc=media_1, scale=deviatia_1)\n",
    "prob_2 = norm.cdf(2, loc=media_2, scale=deviatia_2) - norm.cdf(-2, loc=media_2, scale=deviatia_2)\n",
    "\n",
    "prob_toate = prob_1 * prob_2\n",
    "print(\"Prob toate in interval teoretic: \" ,prob_toate)"
   ],
   "metadata": {
    "collapsed": false,
    "ExecuteTime": {
     "end_time": "2025-01-09T16:49:18.953590200Z",
     "start_time": "2025-01-09T16:49:18.711619200Z"
    }
   },
   "id": "d6de4ccad959ebe2"
  },
  {
   "cell_type": "code",
   "execution_count": 6,
   "outputs": [
    {
     "name": "stdout",
     "output_type": "stream",
     "text": [
      "16\n"
     ]
    },
    {
     "data": {
      "text/plain": "<Figure size 640x480 with 1 Axes>",
      "image/png": "[encoded data removed]"
     },
     "metadata": {},
     "output_type": "display_data"
    },
    {
     "name": "stdout",
     "output_type": "stream",
     "text": [
      "Estimare P(2):  0.2847\n",
      "0.2906764539808019\n"
     ]
    }
   ],
   "source": [
    "# urna 4 bile albe 6 negre\n",
    "# se arunca 4 zaruri. daca suma < 12 se face extragere fara returnare, altfel cu returnare (3 bile)\n",
    "# Y = nr bile albe extrase\n",
    "# 10000 simulari Y + hist\n",
    "# P(Y = 2)\n",
    "\n",
    "from scipy.stats import randint, hypergeom, binom\n",
    "from numpy import random, mean\n",
    "from matplotlib.pyplot import hist, grid, show, legend\n",
    "from itertools import permutations\n",
    "import numpy\n",
    "\n",
    "Y = []\n",
    "sample_size = 10000\n",
    "\n",
    "urna = ['alba']*4 + ['neagra']*6\n",
    "\n",
    "#suma_zaruri = sum(randint.rvs(low=1,high=7,size=4))\n",
    "suma_zaruri = sum(numpy.random.randint(1, 7, size=4))\n",
    "\n",
    "print(suma_zaruri)\n",
    "for _ in range(sample_size):\n",
    "    if suma_zaruri < 12:\n",
    "        bile_extrase = list(random.choice(urna, size=3, replace=False))\n",
    "        Y.append(bile_extrase.count('alba'))\n",
    "    else:\n",
    "        bile_extrase = list(random.choice(urna, size=3, replace=True))\n",
    "        Y.append(bile_extrase.count('alba'))\n",
    "\n",
    "bin_edges = [k + 0.5 for k in range(-1,4)]\n",
    "hist(Y, bin_edges, density=True, width=0.7, alpha=0.5, color='green', edgecolor='black', label='frecvente')\n",
    "\n",
    "grid()\n",
    "show()\n",
    "    \n",
    "# p estimata\n",
    "y_2 = [y for y in Y if y == 2]\n",
    "print('Estimare P(2): ', len(y_2)/len(Y))\n",
    "\n",
    "zar = [1, 2, 3, 4, 5, 6] * 4\n",
    "\n",
    "lista_sume = list(permutations(zar, 4))\n",
    "sume = [sum(list(s)) for s in lista_sume]\n",
    "numar_sume_mai_mici_12 = len([s for s in sume if s < 12])\n",
    "\n",
    "p = numar_sume_mai_mici_12/len(lista_sume)\n",
    "\n",
    "print(hypergeom.pmf(2,10,4,3) * p + binom.pmf(2,3,4/10) * (1-p))\n",
    "\n"
   ],
   "metadata": {
    "collapsed": false,
    "ExecuteTime": {
     "end_time": "2025-01-10T12:26:11.607184700Z",
     "start_time": "2025-01-10T12:26:11.357441400Z"
    }
   },
   "id": "afedb87a32c4557b"
  }
 ],
 "metadata": {
  "kernelspec": {
   "display_name": "Python 3",
   "language": "python",
   "name": "python3"
  },
  "language_info": {
   "codemirror_mode": {
    "name": "ipython",
    "version": 2
   },
   "file_extension": ".py",
   "mimetype": "text/x-python",
   "name": "python",
   "nbconvert_exporter": "python",
   "pygments_lexer": "ipython2",
   "version": "2.7.6"
  }
 },
 "nbformat": 4,
 "nbformat_minor": 5
}
