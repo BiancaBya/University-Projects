{
 "cells": [
  {
   "cell_type": "code",
   "execution_count": 1,
   "id": "initial_id",
   "metadata": {
    "collapsed": true,
    "ExecuteTime": {
     "end_time": "2025-01-06T17:47:35.999788500Z",
     "start_time": "2025-01-06T17:47:35.027492400Z"
    }
   },
   "outputs": [
    {
     "name": "stdout",
     "output_type": "stream",
     "text": [
      "P(A)\n",
      "0.12419\n",
      "0.12280701754385964\n",
      "P(B)\n",
      "0.21872\n",
      "0.21929824561403508\n",
      "P(A|C)\n",
      "0.00909\n",
      "0.008771929824561403\n",
      "P(C)\n",
      "0.60121\n",
      "0.6008771929824561\n"
     ]
    }
   ],
   "source": [
    "from scipy.stats import hypergeom\n",
    "\n",
    "import itertools\n",
    "import math\n",
    "from scipy.stats import hypergeom\n",
    "from random import random\n",
    "\n",
    "# 1\n",
    "from random import sample, choices\n",
    "from math import comb\n",
    "\n",
    "urna = ['rosie'] * 10 + ['neagra'] * 5 + ['alba'] * 5\n",
    "\n",
    "# A: bilele au aceeasi culoare\n",
    "# P(A) astimat si teoretic\n",
    "# toate bilele au aceeasi culoare => 'toate rosii' sau 'toate negre' sau 'toate albe'\n",
    "# P. teoretic: caz. pos: Comb(20, 4)\n",
    "#              caz. fav: Comb(10,4) + Comb(5, 4) * 2\n",
    "def probabilitate_estimata_A():\n",
    "    n = 100000\n",
    "    succeseA = 0\n",
    "    for _ in range(n):\n",
    "        extragere = sample(urna, 3)\n",
    "        if len(extragere) == extragere.count(extragere[0]):\n",
    "            succeseA += 1\n",
    "    return succeseA / n\n",
    "probabilitate_teoretca_A = (comb(10,3) + 2*comb(5,3))/comb(20,3)\n",
    "\n",
    "print('P(A)')\n",
    "print(probabilitate_estimata_A())\n",
    "print(probabilitate_teoretca_A)\n",
    "\n",
    "# B: cele 3 bile sunt de culori distincte\n",
    "def probabilitate_estimata_B():\n",
    "    n = 100000\n",
    "    succeseB = 0\n",
    "    for _ in range(n):\n",
    "        extragere = sample(urna, 3)\n",
    "        suntDistincte = True\n",
    "        for i in range(len(extragere)):\n",
    "            if extragere.count(extragere[i]) > 1:\n",
    "                suntDistincte = False\n",
    "                break\n",
    "        if suntDistincte:\n",
    "            succeseB += 1\n",
    "    return succeseB / n\n",
    "probabilitate_teoretica_B = (10*5*5)/comb(20,3)\n",
    "\n",
    "print('P(B)')\n",
    "print(probabilitate_estimata_B())\n",
    "print(probabilitate_teoretica_B)\n",
    "\n",
    "# C: cel putin o bila este neagra\n",
    "# P(A|C) => daca cel putin o bila este neagra care e probabilitatea ca toate bilele sa aiba aceeasi culoarea => P('toate negre')\n",
    "\n",
    "def probabilitate_estimata_A_relativ_C():\n",
    "    n = 100000\n",
    "    succese = 0\n",
    "    for i in range(n):\n",
    "        extragere = sample(urna, 3)\n",
    "        if extragere.count('neagra') >= 1:\n",
    "            if extragere.count(extragere[0]) == len(extragere):\n",
    "                succese += 1\n",
    "    return succese / n\n",
    "probabilitate_teoretca_A_relativ_C = comb(5,3)/comb(20,3)\n",
    "\n",
    "print('P(A|C)')\n",
    "print(probabilitate_estimata_A_relativ_C())\n",
    "print(probabilitate_teoretca_A_relativ_C)\n",
    "\n",
    "# P(C)\n",
    "def probabilitate_estimata_C():\n",
    "    n = 100000\n",
    "    succeseC = 0\n",
    "    for i in range(n):\n",
    "        extragere = sample(urna, 3)\n",
    "        if extragere.count('neagra') >= 1:\n",
    "            succeseC += 1\n",
    "    return succeseC / n\n",
    "\n",
    "caz_fav_una_neagra = 5 * comb(15,2)\n",
    "caz_fav_doua_negre = comb(5,2) * 15\n",
    "caz_fav_trei_negre = comb(5,3)\n",
    "probabilitate_teoretca_C = (caz_fav_una_neagra + caz_fav_doua_negre + caz_fav_trei_negre) / comb(20,3)\n",
    "\n",
    "print('P(C)')\n",
    "print(probabilitate_estimata_C())\n",
    "print(probabilitate_teoretca_C)\n",
    "\n"
   ]
  },
  {
   "cell_type": "code",
   "execution_count": 2,
   "outputs": [],
   "source": [
    "# functia de densitate -> pdf\n",
    "# functia de repartitie -> cdf\n",
    "# pmf =  fucntia de masa a densitatii\n",
    "# probabilitatea ca o variabila aleatoare sa ia o anumita valoare\n",
    "# mean -> valoarea medie\n",
    "# variatia -> var\n",
    "# deviatia standard -> std"
   ],
   "metadata": {
    "collapsed": false,
    "ExecuteTime": {
     "end_time": "2025-01-05T15:04:10.695558900Z",
     "start_time": "2025-01-05T15:04:10.685536200Z"
    }
   },
   "id": "6a6da85a1ec5bad7"
  },
  {
   "cell_type": "code",
   "execution_count": null,
   "outputs": [],
   "source": [
    "#distributii\n",
    "# exponentiala\n",
    "# binomiala\n",
    "# uniforma\n",
    "# hipergeometrica\n",
    "# normala\n",
    "# geometrica\n",
    "# bernoulli"
   ],
   "metadata": {
    "collapsed": false
   },
   "id": "38a471e6bfc8a3fc"
  },
  {
   "cell_type": "code",
   "execution_count": null,
   "outputs": [],
   "source": [
    "#ex 2\n",
    "\n",
    "from matplotlib.pyplot import plot, title, xlabel, ylabel, grid, legend, show\n",
    "from scipy.stats import expon\n",
    "\n",
    "#EX 2\n",
    "#grafic functia de densitate\n",
    "rate = 2\n",
    "x = range(-2, 6)\n",
    "\n",
    "pdf = [expon.pdf(val, scale=1 / rate) for val in x]\n",
    "plot(x, pdf, label='PDF', color='blue')\n",
    "grid()\n",
    "show()\n",
    "\n",
    "#grafic functia de repartitie\n",
    "cdf = [expon.cdf(val, scale=1 / rate) for val in x]\n",
    "plot(x, cdf, label='CDF', color='blue')\n",
    "grid()\n",
    "show()\n",
    "from numpy import std, mean\n",
    "\n",
    "samples = expon.rvs(scale=1 / rate, size=1000)\n",
    "print(mean(samples))\n",
    "print(std(samples))\n",
    "\n",
    "p_teoretica = 1 - expon.cdf(0.7, scale=1 / rate)\n",
    "print(p_teoretica)\n",
    "\n",
    "p_estimata = len([x for x in samples if x > 0.7]) / 1000\n",
    "print(p_estimata)\n",
    "\n"
   ],
   "metadata": {
    "collapsed": false
   },
   "id": "f4a211a39e733831"
  },
  {
   "cell_type": "code",
   "execution_count": null,
   "outputs": [],
   "source": [
    "# ex3\n",
    "\n",
    "#ex 3\n",
    "from scipy.stats import bernoulli, binom, expon, uniform\n",
    "from matplotlib.pyplot import bar, show, hist, grid, legend, xticks, plot, title, xlabel, ylabel, figure\n",
    "import numpy as np\n",
    "y_lower = -1\n",
    "y_higher = 4\n",
    "\n",
    "y_values = uniform.rvs(loc=y_lower, scale=y_higher-y_lower, size=500)\n",
    "\n",
    "x_v = [-2,-1,1,2]\n",
    "x_p = [0.1,0.4,0.3,0.2]\n",
    "\n",
    "x_values = np.random.choice(x_v,size=500,p=x_p)\n",
    "\n",
    "\n",
    "u_samples = x_values*3 - y_values*3\n",
    "\n",
    "\n",
    "\n",
    "hist(u_samples, bins=20, edgecolor='k', alpha=0.7)\n",
    "grid()\n",
    "show()\n",
    "\n",
    "prob_mai_mic_ca_0 = mean(u_samples < 0)\n",
    "vm = mean(u_samples)\n",
    "variatie = np.var(u_samples)\n",
    "print(prob_mai_mic_ca_0)\n",
    "print(vm)\n",
    "print(variatie)\n",
    "\n",
    "sum=0\n",
    "i=0\n",
    "for x in x_v:\n",
    "    sum+=(x**3)*x_p[i]\n",
    "    i+=1\n",
    "    \n",
    "print(sum)\n"
   ],
   "metadata": {
    "collapsed": false
   },
   "id": "2efd7be617880bc0"
  },
  {
   "cell_type": "code",
   "execution_count": 14,
   "outputs": [
    {
     "name": "stdout",
     "output_type": "stream",
     "text": [
      "7.910713556405212 0.794\n",
      "0.3086999999999998\n"
     ]
    }
   ],
   "source": [
    "# ex 1\n",
    "from scipy.stats import bernoulli, binom, expon, uniform\n",
    "from matplotlib.pyplot import bar, show, hist, grid, legend, xticks, plot, title, xlabel, ylabel, figure\n",
    "import numpy \n",
    "\n",
    "vector = uniform.rvs(loc=0, scale=10, size=5)\n",
    "\n",
    "sume = []\n",
    "ctr = 0\n",
    "\n",
    "for _ in range(0,1000):\n",
    "    x1, x2 = numpy.random.choice(vector, size=2, replace=False)\n",
    "    sume.append(x1+x2)\n",
    "    if(abs(x1-x2) > 2):\n",
    "        ctr += 1\n",
    "        \n",
    "val_medie = numpy.mean(sume)\n",
    "prob_a = ctr/1000\n",
    "print(val_medie, prob_a)\n",
    "\n",
    "\n",
    "\n",
    "nr_elem = 5\n",
    "prob_el_intre_5_8 = 0.3\n",
    "\n",
    "prob_b = binom.pmf(k=2, n=nr_elem, p=prob_el_intre_5_8)\n",
    "\n",
    "print(prob_b)"
   ],
   "metadata": {
    "collapsed": false,
    "ExecuteTime": {
     "end_time": "2025-01-05T16:57:16.731718200Z",
     "start_time": "2025-01-05T16:57:16.710861Z"
    }
   },
   "id": "654cdebc9cd0751c"
  },
  {
   "cell_type": "code",
   "execution_count": 20,
   "outputs": [
    {
     "name": "stdout",
     "output_type": "stream",
     "text": [
      "0.5276334472589853\n",
      "1.819136059992925\n",
      "1.0\n"
     ]
    }
   ],
   "source": [
    "#alt model\n",
    "\n",
    " \n",
    "t2_lower = 1\n",
    "t2_higher = 3\n",
    "\n",
    "#a)\n",
    "prob_exp_t1 = expon.cdf(3, scale=4)\n",
    "print(prob_exp_t1)\n",
    "\n",
    "#prob_unif_t2 = uniform.cdf(3, loc=1, scale=3)\n",
    "#print(prob_unif_t2)\n",
    "\n",
    "\n",
    "#b)\n",
    "\n",
    "\n",
    "T1 = expon.rvs(scale=4, size=1000)\n",
    "\n",
    "T2 = uniform.rvs(loc=1, scale=2, size=1000)\n",
    "\n",
    "timpuri_totale = []\n",
    "for i in range(1000):\n",
    "    if T1[i] <= 4:\n",
    "        timpuri_totale.append(T1[i])\n",
    "    else:\n",
    "        timpuri_totale.append(T2[i])\n",
    "\n",
    "\n",
    "media_total = np.mean(timpuri_totale)\n",
    "print(media_total)\n",
    "\n",
    "#c)\n",
    "\n",
    "prob_T1_4 = expon.cdf(4, scale=4)  # Probabilitatea ca T1 să fie <= 4 secunde\n",
    "\n",
    "# Probabilitatea ca T2 să fie procesat în cel mult 4 secunde este 1, pentru că intervalul este [1, 3]\n",
    "prob_T2_4 = uniform.cdf(4, loc=1, scale=2)\n",
    "\n",
    "# Probabilitatea totală\n",
    "prob_total_4 = prob_T1_4 + (1 - prob_T1_4) * prob_T2_4\n",
    "print(prob_total_4)\n",
    "\n"
   ],
   "metadata": {
    "collapsed": false,
    "ExecuteTime": {
     "end_time": "2025-01-05T17:22:33.008160700Z",
     "start_time": "2025-01-05T17:22:33.001923100Z"
    }
   },
   "id": "6d7fb03c0c54978e"
  }
 ],
 "metadata": {
  "kernelspec": {
   "display_name": "Python 3",
   "language": "python",
   "name": "python3"
  },
  "language_info": {
   "codemirror_mode": {
    "name": "ipython",
    "version": 2
   },
   "file_extension": ".py",
   "mimetype": "text/x-python",
   "name": "python",
   "nbconvert_exporter": "python",
   "pygments_lexer": "ipython2",
   "version": "2.7.6"
  }
 },
 "nbformat": 4,
 "nbformat_minor": 5
}
